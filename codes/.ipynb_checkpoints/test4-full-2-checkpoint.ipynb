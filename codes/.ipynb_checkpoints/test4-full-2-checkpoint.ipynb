{
 "cells": [
  {
   "cell_type": "markdown",
   "metadata": {},
   "source": [
    "https://www.freecodecamp.org/news/facial-emotion-recognition-develop-a-c-n-n-and-break-into-kaggle-top-10-f618c024faa7/"
   ]
  },
  {
   "cell_type": "code",
   "execution_count": 1,
   "metadata": {},
   "outputs": [],
   "source": [
    "%matplotlib inline\n",
    "import matplotlib.pyplot as plt\n",
    "\n",
    "import numpy as np\n",
    "\n",
    "from sklearn.model_selection import train_test_split\n",
    "from sklearn.metrics import accuracy_score\n",
    "\n",
    "from keras.models import Sequential, model_from_json, load_model\n",
    "from keras.layers import Conv2D, Activation, Dropout, MaxPooling2D, Flatten, Dense\n",
    "from keras.layers.normalization import BatchNormalization\n",
    "from keras.regularizers import l2\n",
    "from keras import optimizers\n",
    "from keras.callbacks import ReduceLROnPlateau, EarlyStopping, TensorBoard, ModelCheckpoint\n",
    "from keras.utils import to_categorical, plot_model\n",
    "from keras.preprocessing.image import ImageDataGenerator\n"
   ]
  },
  {
   "cell_type": "markdown",
   "metadata": {},
   "source": [
    "Define Data Loading Mechanism\n",
    "Now, we will define the load_data() function which will efficiently parse the data file and extract necessary data and then convert it into a usable image format.\n",
    "\n",
    "All the images in our dataset are 48x48 in dimension. Since these images are gray-scale, there is only one channel. We will extract the image data and rearrange it into a 48x48 array. Then convert it into unsigned integers and divide it by 255 to normalize the data. 255 is the maximum possible value of a single cell. By dividing every element by 255, we ensure that all our values range between 0 and 1.\n",
    "\n",
    "We will check the Usage column and store the data in separate lists, one for training the network and the other for testing it.\n",
    "\n"
   ]
  },
  {
   "cell_type": "code",
   "execution_count": 2,
   "metadata": {},
   "outputs": [],
   "source": [
    "# def load_data(dataset_path):\n",
    "#     data = []\n",
    "#     test_data = []\n",
    "#     test_labels = []\n",
    "#     labels =[]\n",
    "#     with open(dataset_path, 'r') as file:\n",
    "#         for line_no, line in enumerate(file.readlines()):\n",
    "#             if 0 < line_no <= 35887:\n",
    "#             curr_class, line, set_type = line.split(',')\n",
    "#             image_data = np.asarray([int(x) for x in line.split()]).reshape(48, 48)\n",
    "#             image_data =image_data.astype(np.uint8)/255.0\n",
    "            \n",
    "#             if (set_type.strip() == 'PrivateTest'):\n",
    "              \n",
    "#               test_data.append(image_data)\n",
    "#               test_labels.append(curr_class)\n",
    "#             else:\n",
    "#               data.append(image_data)\n",
    "#               labels.append(curr_class)\n",
    "      \n",
    "#         test_data = np.expand_dims(test_data, -1)\n",
    "#         test_labels = to_categorical(test_labels, num_classes = 7)\n",
    "#         data = np.expand_dims(data, -1)   \n",
    "#         labels = to_categorical(labels, num_classes = 7)\n",
    "    \n",
    "#       return np.array(data), np.array(labels), np.array(test_data), np.array(test_labels)"
   ]
  },
  {
   "cell_type": "markdown",
   "metadata": {},
   "source": [
    "Once our data is segregated, we will expand the dimensions of both testing and training data by one to accommodate the channel. Then, we will one hot encode all the labels using the to_categorical() function and return all the lists as numpy arrays.\n",
    "\n",
    "We will load the data by calling the load_data() function."
   ]
  },
  {
   "cell_type": "code",
   "execution_count": 3,
   "metadata": {},
   "outputs": [],
   "source": [
    "# dataset_path = \"/content/gdrive/My Drive/Colab Notebooks/Emotion Recognition/Data/fer2013.csv\"\n",
    "# train_data, train_labels, test_data, test_labels = load_data(dataset_path)\n",
    "# print(\"Number of images in Training set:\", len(train_data))\n",
    "# print(\"Number of images in Test set:\", len(test_data))\n"
   ]
  },
  {
   "cell_type": "markdown",
   "metadata": {},
   "source": [
    "Our data is loaded and now let us get to the best part, defining the network.\n",
    "\n",
    "Defining the model.\n",
    "We will use Keras to create a Sequential Convolutional Network. Which means that our neural network will be a linear stack of layers. This network will have the following components:\n",
    "\n",
    "Convolutional Layers: These layers are the building blocks of our network and these compute dot product between their weights and the small regions to which they are linked. This is how these layers learn certain features from these images.\n",
    "Activation functions: are those functions which are applied to the outputs of all layers in the network. In this project, we will resort to the use of two functions— Relu and Softmax.\n",
    "Pooling Layers: These layers will downsample the operation along the dimensions. This helps reduce the spatial data and minimize the processing power that is required.\n",
    "Dense layers: These layers are present at the end of a C.N.N. They take in all the feature data generated by the convolution layers and do the decision making.\n",
    "Dropout Layers: randomly turns off a few neurons in the network to prevent overfitting.\n",
    "Batch Normalization: normalizes the output of a previous activation layer by subtracting the batch mean and dividing by the batch standard deviation. This speeds up the training process."
   ]
  },
  {
   "cell_type": "code",
   "execution_count": 4,
   "metadata": {},
   "outputs": [],
   "source": [
    "train_data_dir = '../test_full/train_cropped'\n",
    "validation_data_dir = '../test_full/validation'\n",
    "\n",
    "batch_size = 128 "
   ]
  },
  {
   "cell_type": "code",
   "execution_count": 5,
   "metadata": {},
   "outputs": [
    {
     "name": "stdout",
     "output_type": "stream",
     "text": [
      "Found 27800 images belonging to 4 classes.\n",
      "Found 2590 images belonging to 4 classes.\n"
     ]
    }
   ],
   "source": [
    "# Let's use some data augmentaiton \n",
    "# train_datagen = ImageDataGenerator(rescale=1./255)\n",
    "val_datagen = ImageDataGenerator(rescale=1./255)\n",
    "train_datagen = ImageDataGenerator(\n",
    "        rescale=1./255,\n",
    "      rotation_range=30,\n",
    "      shear_range=0.3,\n",
    "      zoom_range=0.3,\n",
    "      horizontal_flip=True,\n",
    "      fill_mode='nearest')\n",
    "train_generator = train_datagen.flow_from_directory(\n",
    "        train_data_dir,\n",
    "        target_size=(48,48),\n",
    "        batch_size=batch_size,\n",
    "        color_mode=\"grayscale\",\n",
    "        class_mode='categorical')\n",
    "\n",
    "validation_generator = val_datagen.flow_from_directory(\n",
    "        validation_data_dir,\n",
    "        target_size=(48,48),\n",
    "        batch_size=batch_size,\n",
    "        color_mode=\"grayscale\",\n",
    "        class_mode='categorical')"
   ]
  },
  {
   "cell_type": "code",
   "execution_count": 6,
   "metadata": {},
   "outputs": [
    {
     "name": "stdout",
     "output_type": "stream",
     "text": [
      "{'angry': 0, 'happy': 1, 'neutral': 2, 'sad': 3}\n"
     ]
    }
   ],
   "source": [
    "print(validation_generator.class_indices)"
   ]
  },
  {
   "cell_type": "code",
   "execution_count": 7,
   "metadata": {},
   "outputs": [],
   "source": [
    "# initializing\n",
    "num_classes = 4\n",
    "img_rows, img_cols = 48, 48\n",
    "\n",
    "nb_train_samples = 27800\n",
    "nb_validation_samples = 2590\n",
    "\n",
    "\n",
    "epochs = 100\n",
    "learning_rate = 0.001"
   ]
  },
  {
   "cell_type": "code",
   "execution_count": 8,
   "metadata": {},
   "outputs": [],
   "source": [
    "# Create the model 2\n",
    "model = Sequential()\n",
    "\n",
    "model.add(Conv2D(64, (3, 3), activation='relu', input_shape=(48, 48, 1), kernel_regularizer=l2(0.01)))\n",
    "\n",
    "model.add(Conv2D(64, (3, 3), padding='same',activation='relu'))\n",
    "model.add(BatchNormalization())\n",
    "model.add(MaxPooling2D(pool_size=(2,2), strides=(2, 2)))\n",
    "model.add(Dropout(0.5))    \n",
    "\n",
    "model.add(Conv2D(128, (3, 3), padding='same', activation='relu'))\n",
    "model.add(BatchNormalization())\n",
    "\n",
    "model.add(Conv2D(128, (3, 3), padding='same', activation='relu'))\n",
    "model.add(BatchNormalization())\n",
    "\n",
    "model.add(Conv2D(128, (3, 3), padding='same', activation='relu'))\n",
    "model.add(BatchNormalization())\n",
    "model.add(MaxPooling2D(pool_size=(2,2)))\n",
    "model.add(Dropout(0.5))    \n",
    "\n",
    "model.add(Conv2D(256, (3, 3), padding='same', activation='relu'))\n",
    "model.add(BatchNormalization())\n",
    "\n",
    "model.add(Conv2D(256, (3, 3), padding='same', activation='relu'))\n",
    "model.add(BatchNormalization())\n",
    "\n",
    "model.add(Conv2D(256, (3, 3), padding='same', activation='relu'))\n",
    "model.add(BatchNormalization())\n",
    "model.add(MaxPooling2D(pool_size=(2,2)))\n",
    "model.add(Dropout(0.5))    \n",
    "\n",
    "model.add(Conv2D(512, (3, 3), padding='same', activation='relu'))\n",
    "model.add(BatchNormalization())\n",
    "\n",
    "model.add(Conv2D(512, (3, 3), padding='same', activation='relu'))\n",
    "model.add(BatchNormalization())\n",
    "\n",
    "model.add(Conv2D(512, (3, 3), padding='same', activation='relu'))\n",
    "model.add(BatchNormalization())\n",
    "model.add(MaxPooling2D(pool_size=(2,2)))\n",
    "model.add(Dropout(0.5))    \n",
    "\n",
    "model.add(Flatten())\n",
    "\n",
    "model.add(Dense(512, activation='relu'))\n",
    "model.add(Dropout(0.5))\n",
    "\n",
    "model.add(Dense(256, activation='relu'))\n",
    "model.add(Dropout(0.5))\n",
    "\n",
    "model.add(Dense(128, activation='relu'))\n",
    "model.add(Dropout(0.5))\n",
    "\n",
    "model.add(Dense(64, activation='relu'))\n",
    "model.add(Dropout(0.5))\n",
    "\n",
    "model.add(Dense(4, activation='softmax'))\n"
   ]
  },
  {
   "cell_type": "code",
   "execution_count": 9,
   "metadata": {},
   "outputs": [
    {
     "name": "stdout",
     "output_type": "stream",
     "text": [
      "Model: \"sequential\"\n",
      "_________________________________________________________________\n",
      "Layer (type)                 Output Shape              Param #   \n",
      "=================================================================\n",
      "conv2d (Conv2D)              (None, 46, 46, 64)        640       \n",
      "_________________________________________________________________\n",
      "conv2d_1 (Conv2D)            (None, 46, 46, 64)        36928     \n",
      "_________________________________________________________________\n",
      "batch_normalization (BatchNo (None, 46, 46, 64)        256       \n",
      "_________________________________________________________________\n",
      "max_pooling2d (MaxPooling2D) (None, 23, 23, 64)        0         \n",
      "_________________________________________________________________\n",
      "dropout (Dropout)            (None, 23, 23, 64)        0         \n",
      "_________________________________________________________________\n",
      "conv2d_2 (Conv2D)            (None, 23, 23, 128)       73856     \n",
      "_________________________________________________________________\n",
      "batch_normalization_1 (Batch (None, 23, 23, 128)       512       \n",
      "_________________________________________________________________\n",
      "conv2d_3 (Conv2D)            (None, 23, 23, 128)       147584    \n",
      "_________________________________________________________________\n",
      "batch_normalization_2 (Batch (None, 23, 23, 128)       512       \n",
      "_________________________________________________________________\n",
      "conv2d_4 (Conv2D)            (None, 23, 23, 128)       147584    \n",
      "_________________________________________________________________\n",
      "batch_normalization_3 (Batch (None, 23, 23, 128)       512       \n",
      "_________________________________________________________________\n",
      "max_pooling2d_1 (MaxPooling2 (None, 11, 11, 128)       0         \n",
      "_________________________________________________________________\n",
      "dropout_1 (Dropout)          (None, 11, 11, 128)       0         \n",
      "_________________________________________________________________\n",
      "conv2d_5 (Conv2D)            (None, 11, 11, 256)       295168    \n",
      "_________________________________________________________________\n",
      "batch_normalization_4 (Batch (None, 11, 11, 256)       1024      \n",
      "_________________________________________________________________\n",
      "conv2d_6 (Conv2D)            (None, 11, 11, 256)       590080    \n",
      "_________________________________________________________________\n",
      "batch_normalization_5 (Batch (None, 11, 11, 256)       1024      \n",
      "_________________________________________________________________\n",
      "conv2d_7 (Conv2D)            (None, 11, 11, 256)       590080    \n",
      "_________________________________________________________________\n",
      "batch_normalization_6 (Batch (None, 11, 11, 256)       1024      \n",
      "_________________________________________________________________\n",
      "max_pooling2d_2 (MaxPooling2 (None, 5, 5, 256)         0         \n",
      "_________________________________________________________________\n",
      "dropout_2 (Dropout)          (None, 5, 5, 256)         0         \n",
      "_________________________________________________________________\n",
      "conv2d_8 (Conv2D)            (None, 5, 5, 512)         1180160   \n",
      "_________________________________________________________________\n",
      "batch_normalization_7 (Batch (None, 5, 5, 512)         2048      \n",
      "_________________________________________________________________\n",
      "conv2d_9 (Conv2D)            (None, 5, 5, 512)         2359808   \n",
      "_________________________________________________________________\n",
      "batch_normalization_8 (Batch (None, 5, 5, 512)         2048      \n",
      "_________________________________________________________________\n",
      "conv2d_10 (Conv2D)           (None, 5, 5, 512)         2359808   \n",
      "_________________________________________________________________\n",
      "batch_normalization_9 (Batch (None, 5, 5, 512)         2048      \n",
      "_________________________________________________________________\n",
      "max_pooling2d_3 (MaxPooling2 (None, 2, 2, 512)         0         \n",
      "_________________________________________________________________\n",
      "dropout_3 (Dropout)          (None, 2, 2, 512)         0         \n",
      "_________________________________________________________________\n",
      "flatten (Flatten)            (None, 2048)              0         \n",
      "_________________________________________________________________\n",
      "dense (Dense)                (None, 512)               1049088   \n",
      "_________________________________________________________________\n",
      "dropout_4 (Dropout)          (None, 512)               0         \n",
      "_________________________________________________________________\n",
      "dense_1 (Dense)              (None, 256)               131328    \n",
      "_________________________________________________________________\n",
      "dropout_5 (Dropout)          (None, 256)               0         \n",
      "_________________________________________________________________\n",
      "dense_2 (Dense)              (None, 128)               32896     \n",
      "_________________________________________________________________\n",
      "dropout_6 (Dropout)          (None, 128)               0         \n",
      "_________________________________________________________________\n",
      "dense_3 (Dense)              (None, 64)                8256      \n",
      "_________________________________________________________________\n",
      "dropout_7 (Dropout)          (None, 64)                0         \n",
      "_________________________________________________________________\n",
      "dense_4 (Dense)              (None, 4)                 260       \n",
      "=================================================================\n",
      "Total params: 9,014,532\n",
      "Trainable params: 9,009,028\n",
      "Non-trainable params: 5,504\n",
      "_________________________________________________________________\n"
     ]
    }
   ],
   "source": [
    "model.summary()"
   ]
  },
  {
   "cell_type": "code",
   "execution_count": 10,
   "metadata": {},
   "outputs": [],
   "source": [
    "# plot_model(model, to_file= 'model.png')\n",
    "# model_plot = plt.imread('model.png')\n",
    "# plt.imshow(model_plot)"
   ]
  },
  {
   "cell_type": "markdown",
   "metadata": {},
   "source": [
    "We will compile the network using Adam optimizer and will use a variable learning rate. Since we are dealing with a classification problem that involves multiple categories, we will use categorical_crossentropy as our loss function."
   ]
  },
  {
   "cell_type": "markdown",
   "metadata": {},
   "source": [
    "Callback functions\n",
    "Callback functions are those functions which are called after every epoch during the training process. We will be using the following callback functions:"
   ]
  },
  {
   "cell_type": "code",
   "execution_count": 11,
   "metadata": {},
   "outputs": [],
   "source": [
    "\n",
    "\n",
    "adam = optimizers.Adam(lr = learning_rate)\n",
    "\n",
    "model.compile(optimizer = adam, loss = 'categorical_crossentropy', metrics = ['accuracy'])    \n",
    "\n"
   ]
  },
  {
   "cell_type": "code",
   "execution_count": 12,
   "metadata": {},
   "outputs": [],
   "source": [
    "lr_reducer = ReduceLROnPlateau(monitor='val_loss', factor=0.9, patience=3)\n",
    "early_stopper = EarlyStopping(monitor='val_accuracy', min_delta=0, patience=6, mode='auto')\n",
    "checkpointer = ModelCheckpoint('rong_test_4_2_checkpoint_file.hd5', monitor='val_loss', verbose=1, save_best_only=True)\n",
    "\n",
    "callbacks=[lr_reducer, checkpointer, early_stopper]"
   ]
  },
  {
   "cell_type": "markdown",
   "metadata": {},
   "source": [
    "Time to train\n",
    "All our hard work is about to be put to the test. But before we fit the model, let us define some hyper-parameters.\n",
    "\n"
   ]
  },
  {
   "cell_type": "code",
   "execution_count": null,
   "metadata": {
    "scrolled": true
   },
   "outputs": [
    {
     "name": "stdout",
     "output_type": "stream",
     "text": [
      "Epoch 1/100\n",
      "217/217 [==============================] - ETA: 0s - loss: 1.5989 - accuracy: 0.3097\n",
      "Epoch 00001: val_loss improved from inf to 1.38249, saving model to rong_test_4_2_checkpoint_file.hd5\n",
      "WARNING:tensorflow:From /Users/rong/opt/anaconda3/lib/python3.7/site-packages/tensorflow/python/ops/resource_variable_ops.py:1817: calling BaseResourceVariable.__init__ (from tensorflow.python.ops.resource_variable_ops) with constraint is deprecated and will be removed in a future version.\n",
      "Instructions for updating:\n",
      "If using Keras pass *_constraint arguments to layers.\n",
      "INFO:tensorflow:Assets written to: rong_test_4_2_checkpoint_file.hd5/assets\n",
      "217/217 [==============================] - 486s 2s/step - loss: 1.5989 - accuracy: 0.3097 - val_loss: 1.3825 - val_accuracy: 0.3387 - lr: 0.0010\n",
      "Epoch 2/100\n",
      "217/217 [==============================] - ETA: 0s - loss: 1.3808 - accuracy: 0.3460\n",
      "Epoch 00002: val_loss improved from 1.38249 to 1.37987, saving model to rong_test_4_2_checkpoint_file.hd5\n",
      "INFO:tensorflow:Assets written to: rong_test_4_2_checkpoint_file.hd5/assets\n",
      "217/217 [==============================] - 533s 2s/step - loss: 1.3808 - accuracy: 0.3460 - val_loss: 1.3799 - val_accuracy: 0.3398 - lr: 0.0010\n",
      "Epoch 3/100\n",
      "217/217 [==============================] - ETA: 0s - loss: 1.3605 - accuracy: 0.3584\n",
      "Epoch 00003: val_loss improved from 1.37987 to 1.37214, saving model to rong_test_4_2_checkpoint_file.hd5\n",
      "INFO:tensorflow:Assets written to: rong_test_4_2_checkpoint_file.hd5/assets\n",
      "217/217 [==============================] - 503s 2s/step - loss: 1.3605 - accuracy: 0.3584 - val_loss: 1.3721 - val_accuracy: 0.3410 - lr: 0.0010\n",
      "Epoch 4/100\n",
      "217/217 [==============================] - ETA: 0s - loss: 1.3481 - accuracy: 0.3616\n",
      "Epoch 00004: val_loss improved from 1.37214 to 1.36971, saving model to rong_test_4_2_checkpoint_file.hd5\n",
      "INFO:tensorflow:Assets written to: rong_test_4_2_checkpoint_file.hd5/assets\n",
      "217/217 [==============================] - 517s 2s/step - loss: 1.3481 - accuracy: 0.3616 - val_loss: 1.3697 - val_accuracy: 0.3383 - lr: 0.0010\n",
      "Epoch 5/100\n",
      "217/217 [==============================] - ETA: 0s - loss: 1.3370 - accuracy: 0.3627\n",
      "Epoch 00005: val_loss improved from 1.36971 to 1.35574, saving model to rong_test_4_2_checkpoint_file.hd5\n",
      "INFO:tensorflow:Assets written to: rong_test_4_2_checkpoint_file.hd5/assets\n",
      "217/217 [==============================] - 542s 2s/step - loss: 1.3370 - accuracy: 0.3627 - val_loss: 1.3557 - val_accuracy: 0.3387 - lr: 0.0010\n",
      "Epoch 6/100\n",
      "217/217 [==============================] - ETA: 0s - loss: 1.3253 - accuracy: 0.3641\n",
      "Epoch 00006: val_loss improved from 1.35574 to 1.34826, saving model to rong_test_4_2_checkpoint_file.hd5\n",
      "INFO:tensorflow:Assets written to: rong_test_4_2_checkpoint_file.hd5/assets\n",
      "217/217 [==============================] - 543s 3s/step - loss: 1.3253 - accuracy: 0.3641 - val_loss: 1.3483 - val_accuracy: 0.3418 - lr: 0.0010\n",
      "Epoch 7/100\n",
      "217/217 [==============================] - ETA: 0s - loss: 1.3149 - accuracy: 0.3644\n",
      "Epoch 00007: val_loss did not improve from 1.34826\n",
      "217/217 [==============================] - 545s 3s/step - loss: 1.3149 - accuracy: 0.3644 - val_loss: 1.3554 - val_accuracy: 0.3410 - lr: 0.0010\n",
      "Epoch 8/100\n",
      "217/217 [==============================] - ETA: 0s - loss: 1.2796 - accuracy: 0.3921\n",
      "Epoch 00008: val_loss improved from 1.34826 to 1.26998, saving model to rong_test_4_2_checkpoint_file.hd5\n",
      "INFO:tensorflow:Assets written to: rong_test_4_2_checkpoint_file.hd5/assets\n",
      "217/217 [==============================] - 597s 3s/step - loss: 1.2796 - accuracy: 0.3921 - val_loss: 1.2700 - val_accuracy: 0.4000 - lr: 0.0010\n",
      "Epoch 9/100\n",
      "217/217 [==============================] - ETA: 0s - loss: 1.2426 - accuracy: 0.4490\n",
      "Epoch 00009: val_loss did not improve from 1.26998\n",
      "217/217 [==============================] - 543s 3s/step - loss: 1.2426 - accuracy: 0.4490 - val_loss: 1.3061 - val_accuracy: 0.3809 - lr: 0.0010\n",
      "Epoch 10/100\n",
      "217/217 [==============================] - ETA: 0s - loss: 1.1964 - accuracy: 0.4785\n",
      "Epoch 00010: val_loss improved from 1.26998 to 1.24847, saving model to rong_test_4_2_checkpoint_file.hd5\n",
      "INFO:tensorflow:Assets written to: rong_test_4_2_checkpoint_file.hd5/assets\n",
      "217/217 [==============================] - 574s 3s/step - loss: 1.1964 - accuracy: 0.4785 - val_loss: 1.2485 - val_accuracy: 0.4039 - lr: 0.0010\n",
      "Epoch 11/100\n",
      "217/217 [==============================] - ETA: 0s - loss: 1.1631 - accuracy: 0.4943\n",
      "Epoch 00011: val_loss improved from 1.24847 to 1.21987, saving model to rong_test_4_2_checkpoint_file.hd5\n",
      "INFO:tensorflow:Assets written to: rong_test_4_2_checkpoint_file.hd5/assets\n",
      "217/217 [==============================] - 564s 3s/step - loss: 1.1631 - accuracy: 0.4943 - val_loss: 1.2199 - val_accuracy: 0.4121 - lr: 0.0010\n",
      "Epoch 12/100\n",
      "217/217 [==============================] - ETA: 0s - loss: 1.1265 - accuracy: 0.5176\n",
      "Epoch 00012: val_loss improved from 1.21987 to 1.18370, saving model to rong_test_4_2_checkpoint_file.hd5\n",
      "INFO:tensorflow:Assets written to: rong_test_4_2_checkpoint_file.hd5/assets\n",
      "217/217 [==============================] - 510s 2s/step - loss: 1.1265 - accuracy: 0.5176 - val_loss: 1.1837 - val_accuracy: 0.4344 - lr: 0.0010\n",
      "Epoch 13/100\n",
      "217/217 [==============================] - ETA: 0s - loss: 1.0948 - accuracy: 0.5269\n",
      "Epoch 00013: val_loss did not improve from 1.18370\n",
      "217/217 [==============================] - 494s 2s/step - loss: 1.0948 - accuracy: 0.5269 - val_loss: 1.2668 - val_accuracy: 0.3633 - lr: 0.0010\n",
      "Epoch 14/100\n",
      "217/217 [==============================] - ETA: 0s - loss: 1.0776 - accuracy: 0.5352\n",
      "Epoch 00014: val_loss did not improve from 1.18370\n",
      "217/217 [==============================] - 472s 2s/step - loss: 1.0776 - accuracy: 0.5352 - val_loss: 1.3346 - val_accuracy: 0.3301 - lr: 0.0010\n",
      "Epoch 15/100\n",
      "217/217 [==============================] - ETA: 0s - loss: 1.0669 - accuracy: 0.5374\n",
      "Epoch 00015: val_loss did not improve from 1.18370\n",
      "217/217 [==============================] - 474s 2s/step - loss: 1.0669 - accuracy: 0.5374 - val_loss: 1.1917 - val_accuracy: 0.4352 - lr: 0.0010\n",
      "Epoch 16/100\n",
      "217/217 [==============================] - ETA: 0s - loss: 1.0455 - accuracy: 0.5462\n",
      "Epoch 00016: val_loss did not improve from 1.18370\n",
      "217/217 [==============================] - 464s 2s/step - loss: 1.0455 - accuracy: 0.5462 - val_loss: 1.2164 - val_accuracy: 0.4105 - lr: 9.0000e-04\n",
      "Epoch 17/100\n",
      "217/217 [==============================] - ETA: 0s - loss: 1.0357 - accuracy: 0.5478\n",
      "Epoch 00017: val_loss improved from 1.18370 to 1.15342, saving model to rong_test_4_2_checkpoint_file.hd5\n",
      "INFO:tensorflow:Assets written to: rong_test_4_2_checkpoint_file.hd5/assets\n",
      "217/217 [==============================] - 468s 2s/step - loss: 1.0357 - accuracy: 0.5478 - val_loss: 1.1534 - val_accuracy: 0.4496 - lr: 9.0000e-04\n",
      "Epoch 18/100\n",
      "217/217 [==============================] - ETA: 0s - loss: 1.0242 - accuracy: 0.5526\n",
      "Epoch 00018: val_loss improved from 1.15342 to 1.14031, saving model to rong_test_4_2_checkpoint_file.hd5\n",
      "INFO:tensorflow:Assets written to: rong_test_4_2_checkpoint_file.hd5/assets\n",
      "217/217 [==============================] - 467s 2s/step - loss: 1.0242 - accuracy: 0.5526 - val_loss: 1.1403 - val_accuracy: 0.4539 - lr: 9.0000e-04\n",
      "Epoch 19/100\n",
      "217/217 [==============================] - ETA: 0s - loss: 1.0213 - accuracy: 0.5544\n",
      "Epoch 00019: val_loss did not improve from 1.14031\n",
      "217/217 [==============================] - 463s 2s/step - loss: 1.0213 - accuracy: 0.5544 - val_loss: 1.2331 - val_accuracy: 0.3949 - lr: 9.0000e-04\n",
      "Epoch 20/100\n",
      "217/217 [==============================] - ETA: 0s - loss: 1.0165 - accuracy: 0.5541\n",
      "Epoch 00020: val_loss did not improve from 1.14031\n",
      "217/217 [==============================] - 464s 2s/step - loss: 1.0165 - accuracy: 0.5541 - val_loss: 1.2142 - val_accuracy: 0.3996 - lr: 9.0000e-04\n",
      "Epoch 21/100\n",
      "217/217 [==============================] - ETA: 0s - loss: 1.0025 - accuracy: 0.5591\n",
      "Epoch 00021: val_loss did not improve from 1.14031\n",
      "217/217 [==============================] - 464s 2s/step - loss: 1.0025 - accuracy: 0.5591 - val_loss: 1.2300 - val_accuracy: 0.3977 - lr: 9.0000e-04\n",
      "Epoch 22/100\n"
     ]
    },
    {
     "name": "stdout",
     "output_type": "stream",
     "text": [
      "217/217 [==============================] - ETA: 0s - loss: 1.0005 - accuracy: 0.5582\n",
      "Epoch 00022: val_loss did not improve from 1.14031\n",
      "217/217 [==============================] - 486s 2s/step - loss: 1.0005 - accuracy: 0.5582 - val_loss: 1.3123 - val_accuracy: 0.3367 - lr: 8.1000e-04\n",
      "Epoch 23/100\n",
      "217/217 [==============================] - ETA: 0s - loss: 0.9975 - accuracy: 0.5612\n",
      "Epoch 00023: val_loss did not improve from 1.14031\n",
      "217/217 [==============================] - 500s 2s/step - loss: 0.9975 - accuracy: 0.5612 - val_loss: 1.2120 - val_accuracy: 0.4031 - lr: 8.1000e-04\n",
      "Epoch 24/100\n",
      "217/217 [==============================] - ETA: 0s - loss: 0.9929 - accuracy: 0.5606\n",
      "Epoch 00024: val_loss did not improve from 1.14031\n",
      "217/217 [==============================] - 466s 2s/step - loss: 0.9929 - accuracy: 0.5606 - val_loss: 1.2602 - val_accuracy: 0.3863 - lr: 8.1000e-04\n",
      "CPU times: user 20h 24min 18s, sys: 39min 11s, total: 21h 3min 30s\n",
      "Wall time: 3h 23min 16s\n"
     ]
    }
   ],
   "source": [
    "%%time\n",
    "# epochs = 100\n",
    "# batch_size = 64\n",
    "# learning_rate = 0.001\n",
    "\n",
    "# model.fit(train_data,\n",
    "#           train_labels,\n",
    "#           epochs = epochs,\n",
    "#           batch_size = batch_size,\n",
    "#           validation_split = 0.2,\n",
    "#           shuffle = True,\n",
    "#           callbacks=[lr_reducer, checkpointer, early_stopper]\n",
    "#          )\n",
    "\n",
    "model_info = model.fit(\n",
    "            train_generator,\n",
    "            steps_per_epoch=nb_train_samples // batch_size,\n",
    "            epochs=epochs,\n",
    "            callbacks = callbacks,\n",
    "            validation_data=validation_generator,\n",
    "            validation_steps=nb_validation_samples // batch_size)\n",
    "\n",
    "\n",
    "model_json = model.to_json()\n",
    "with open(\"rong_test_4_2_model_file_json.json\", \"w\") as json_file:\n",
    "    json_file.write(model_json)\n",
    "    \n",
    "model.save_weights('rong_test_4_2_weights.h5')\n",
    "model.save('rong_test_4_2_model_file.h5')"
   ]
  },
  {
   "cell_type": "code",
   "execution_count": null,
   "metadata": {},
   "outputs": [
    {
     "name": "stdout",
     "output_type": "stream",
     "text": [
      "dict_keys(['loss', 'accuracy', 'val_loss', 'val_accuracy', 'lr'])\n"
     ]
    },
    {
     "data": {
      "image/png": "[encoded data removed]",
      "text/plain": [
       "<Figure size 432x288 with 1 Axes>"
      ]
     },
     "metadata": {
      "needs_background": "light"
     },
     "output_type": "display_data"
    }
   ],
   "source": [
    "print(model_info.history.keys())\n",
    "\n",
    "import matplotlib.pyplot as plt\n",
    "plt.plot(model_info.history['loss'])\n",
    "plt.plot(model_info.history['val_loss'])\n",
    "plt.title('model loss')\n",
    "plt.ylabel('loss')\n",
    "plt.xlabel('epoch')\n",
    "plt.legend(['train', 'test'], loc='upper left')\n",
    "plt.show()"
   ]
  },
  {
   "cell_type": "markdown",
   "metadata": {},
   "source": [
    "Now that the network is being trained, I suggest that you go and finish that book you started or go for a run. It took me about an hour on Google Colab.\n",
    "\n",
    "Test the model\n",
    "Remember the private set we stored separately? That was for this very moment. This is the moment of truth and this is where we will reap the fruit of our labor.\n"
   ]
  },
  {
   "cell_type": "code",
   "execution_count": null,
   "metadata": {},
   "outputs": [],
   "source": [
    "# predicted_test_labels = np.argmax(model.predict(test_data), axis=1)\n",
    "# test_labels = np.argmax(test_labels, axis=1)\n",
    "\n",
    "# print (\"Accuracy score = \", accuracy_score(test_labels, predicted_test_labels))\n"
   ]
  },
  {
   "cell_type": "code",
   "execution_count": null,
   "metadata": {},
   "outputs": [],
   "source": [
    "# model_json = model.to_json()\n",
    "# with open(\"rong_test_4_2_model_file_json.json\", \"w\") as json_file:\n",
    "#     json_file.write(model_json)\n",
    "# serialize weights to HDF5\n",
    "# model.save_weights(\"/content/gdrive/My Drive/Colab Notebooks/Emotion Recognition/FERmodel.h5\")\n",
    "# print(\"Saved model to disk\")"
   ]
  },
  {
   "cell_type": "code",
   "execution_count": null,
   "metadata": {},
   "outputs": [],
   "source": [
    "# model.save_weights('rong_test_4_2_weights.h5')\n",
    "# model.save('rong_test_4_2_model_file.h5')"
   ]
  },
  {
   "cell_type": "code",
   "execution_count": null,
   "metadata": {},
   "outputs": [
    {
     "data": {
      "text/plain": [
       "2"
      ]
     },
     "execution_count": 18,
     "metadata": {},
     "output_type": "execute_result"
    }
   ],
   "source": [
    "1+1"
   ]
  },
  {
   "cell_type": "code",
   "execution_count": null,
   "metadata": {},
   "outputs": [],
   "source": []
  },
  {
   "cell_type": "code",
   "execution_count": null,
   "metadata": {},
   "outputs": [],
   "source": []
  },
  {
   "cell_type": "code",
   "execution_count": null,
   "metadata": {},
   "outputs": [],
   "source": []
  },
  {
   "cell_type": "code",
   "execution_count": null,
   "metadata": {},
   "outputs": [],
   "source": []
  }
 ],
 "metadata": {
  "kernelspec": {
   "display_name": "Python 3",
   "language": "python",
   "name": "python3"
  },
  "language_info": {
   "codemirror_mode": {
    "name": "ipython",
    "version": 3
   },
   "file_extension": ".py",
   "mimetype": "text/x-python",
   "name": "python",
   "nbconvert_exporter": "python",
   "pygments_lexer": "ipython3",
   "version": "3.7.6"
  }
 },
 "nbformat": 4,
 "nbformat_minor": 4
}
