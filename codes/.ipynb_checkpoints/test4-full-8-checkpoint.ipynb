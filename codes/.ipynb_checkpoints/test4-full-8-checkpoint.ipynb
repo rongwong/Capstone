{
 "cells": [
  {
   "cell_type": "markdown",
   "metadata": {},
   "source": [
    "https://www.freecodecamp.org/news/facial-emotion-recognition-develop-a-c-n-n-and-break-into-kaggle-top-10-f618c024faa7/"
   ]
  },
  {
   "cell_type": "code",
   "execution_count": 1,
   "metadata": {},
   "outputs": [],
   "source": [
    "%matplotlib inline\n",
    "import matplotlib.pyplot as plt\n",
    "\n",
    "import numpy as np\n",
    "\n",
    "from sklearn.model_selection import train_test_split\n",
    "from sklearn.metrics import accuracy_score\n",
    "\n",
    "from keras.models import Sequential, model_from_json, load_model\n",
    "from keras.layers import Conv2D, Activation, Dropout, MaxPooling2D, Flatten, Dense\n",
    "from keras.layers.normalization import BatchNormalization\n",
    "from keras.regularizers import l2\n",
    "from keras import optimizers\n",
    "from keras.callbacks import ReduceLROnPlateau, EarlyStopping, TensorBoard, ModelCheckpoint\n",
    "from keras.utils import to_categorical, plot_model\n",
    "from keras.preprocessing.image import ImageDataGenerator\n"
   ]
  },
  {
   "cell_type": "markdown",
   "metadata": {},
   "source": [
    "Define Data Loading Mechanism\n",
    "Now, we will define the load_data() function which will efficiently parse the data file and extract necessary data and then convert it into a usable image format.\n",
    "\n",
    "All the images in our dataset are 48x48 in dimension. Since these images are gray-scale, there is only one channel. We will extract the image data and rearrange it into a 48x48 array. Then convert it into unsigned integers and divide it by 255 to normalize the data. 255 is the maximum possible value of a single cell. By dividing every element by 255, we ensure that all our values range between 0 and 1.\n",
    "\n",
    "We will check the Usage column and store the data in separate lists, one for training the network and the other for testing it.\n",
    "\n"
   ]
  },
  {
   "cell_type": "code",
   "execution_count": 2,
   "metadata": {},
   "outputs": [],
   "source": [
    "# def load_data(dataset_path):\n",
    "#     data = []\n",
    "#     test_data = []\n",
    "#     test_labels = []\n",
    "#     labels =[]\n",
    "#     with open(dataset_path, 'r') as file:\n",
    "#         for line_no, line in enumerate(file.readlines()):\n",
    "#             if 0 < line_no <= 35887:\n",
    "#             curr_class, line, set_type = line.split(',')\n",
    "#             image_data = np.asarray([int(x) for x in line.split()]).reshape(48, 48)\n",
    "#             image_data =image_data.astype(np.uint8)/255.0\n",
    "            \n",
    "#             if (set_type.strip() == 'PrivateTest'):\n",
    "              \n",
    "#               test_data.append(image_data)\n",
    "#               test_labels.append(curr_class)\n",
    "#             else:\n",
    "#               data.append(image_data)\n",
    "#               labels.append(curr_class)\n",
    "      \n",
    "#         test_data = np.expand_dims(test_data, -1)\n",
    "#         test_labels = to_categorical(test_labels, num_classes = 7)\n",
    "#         data = np.expand_dims(data, -1)   \n",
    "#         labels = to_categorical(labels, num_classes = 7)\n",
    "    \n",
    "#       return np.array(data), np.array(labels), np.array(test_data), np.array(test_labels)"
   ]
  },
  {
   "cell_type": "markdown",
   "metadata": {},
   "source": [
    "Once our data is segregated, we will expand the dimensions of both testing and training data by one to accommodate the channel. Then, we will one hot encode all the labels using the to_categorical() function and return all the lists as numpy arrays.\n",
    "\n",
    "We will load the data by calling the load_data() function."
   ]
  },
  {
   "cell_type": "code",
   "execution_count": 3,
   "metadata": {},
   "outputs": [],
   "source": [
    "# dataset_path = \"/content/gdrive/My Drive/Colab Notebooks/Emotion Recognition/Data/fer2013.csv\"\n",
    "# train_data, train_labels, test_data, test_labels = load_data(dataset_path)\n",
    "# print(\"Number of images in Training set:\", len(train_data))\n",
    "# print(\"Number of images in Test set:\", len(test_data))\n"
   ]
  },
  {
   "cell_type": "markdown",
   "metadata": {},
   "source": [
    "Our data is loaded and now let us get to the best part, defining the network.\n",
    "\n",
    "Defining the model.\n",
    "We will use Keras to create a Sequential Convolutional Network. Which means that our neural network will be a linear stack of layers. This network will have the following components:\n",
    "\n",
    "Convolutional Layers: These layers are the building blocks of our network and these compute dot product between their weights and the small regions to which they are linked. This is how these layers learn certain features from these images.\n",
    "Activation functions: are those functions which are applied to the outputs of all layers in the network. In this project, we will resort to the use of two functions— Relu and Softmax.\n",
    "Pooling Layers: These layers will downsample the operation along the dimensions. This helps reduce the spatial data and minimize the processing power that is required.\n",
    "Dense layers: These layers are present at the end of a C.N.N. They take in all the feature data generated by the convolution layers and do the decision making.\n",
    "Dropout Layers: randomly turns off a few neurons in the network to prevent overfitting.\n",
    "Batch Normalization: normalizes the output of a previous activation layer by subtracting the batch mean and dividing by the batch standard deviation. This speeds up the training process."
   ]
  },
  {
   "cell_type": "code",
   "execution_count": 4,
   "metadata": {},
   "outputs": [],
   "source": [
    "train_data_dir = '../test_full/train_cropped'\n",
    "validation_data_dir = '../test_full/validation'\n",
    "\n",
    "batch_size = 64 "
   ]
  },
  {
   "cell_type": "code",
   "execution_count": 5,
   "metadata": {},
   "outputs": [
    {
     "name": "stdout",
     "output_type": "stream",
     "text": [
      "Found 27800 images belonging to 4 classes.\n",
      "Found 2590 images belonging to 4 classes.\n"
     ]
    }
   ],
   "source": [
    "# Let's use some data augmentaiton \n",
    "# train_datagen = ImageDataGenerator(rescale=1./255)\n",
    "val_datagen = ImageDataGenerator(rescale=1./255)\n",
    "train_datagen = ImageDataGenerator(\n",
    "        rescale=1./255,\n",
    "      rotation_range=30,\n",
    "      shear_range=0.3,\n",
    "      zoom_range=0.3,\n",
    "      horizontal_flip=True,\n",
    "      fill_mode='nearest')\n",
    "train_generator = train_datagen.flow_from_directory(\n",
    "        train_data_dir,\n",
    "        target_size=(48,48),\n",
    "        batch_size=batch_size,\n",
    "        color_mode=\"grayscale\",\n",
    "        class_mode='categorical')\n",
    "\n",
    "validation_generator = val_datagen.flow_from_directory(\n",
    "        validation_data_dir,\n",
    "        target_size=(48,48),\n",
    "        batch_size=batch_size,\n",
    "        color_mode=\"grayscale\",\n",
    "        class_mode='categorical')"
   ]
  },
  {
   "cell_type": "code",
   "execution_count": 6,
   "metadata": {},
   "outputs": [
    {
     "name": "stdout",
     "output_type": "stream",
     "text": [
      "{'angry': 0, 'happy': 1, 'neutral': 2, 'sad': 3}\n"
     ]
    }
   ],
   "source": [
    "print(validation_generator.class_indices)"
   ]
  },
  {
   "cell_type": "code",
   "execution_count": 7,
   "metadata": {},
   "outputs": [],
   "source": [
    "# initializing\n",
    "num_classes = 4\n",
    "img_rows, img_cols = 48, 48\n",
    "\n",
    "nb_train_samples = 27800\n",
    "nb_validation_samples = 2590\n",
    "\n",
    "\n",
    "epochs = 100\n",
    "learning_rate = 0.001"
   ]
  },
  {
   "cell_type": "code",
   "execution_count": 8,
   "metadata": {},
   "outputs": [],
   "source": [
    "# Create the model 2\n",
    "model = Sequential()\n",
    "\n",
    "model.add(Conv2D(64, (3, 3), activation='relu', input_shape=(48, 48, 1), kernel_regularizer=l2(0.01)))\n",
    "\n",
    "model.add(Conv2D(64, (3, 3), padding='same',activation='relu'))\n",
    "model.add(BatchNormalization())\n",
    "model.add(MaxPooling2D(pool_size=(2,2), strides=(2, 2)))\n",
    "model.add(Dropout(0.2))    \n",
    "\n",
    "model.add(Conv2D(128, (3, 3), padding='same', activation='relu'))\n",
    "model.add(BatchNormalization())\n",
    "\n",
    "model.add(Conv2D(128, (3, 3), padding='same', activation='relu'))\n",
    "model.add(BatchNormalization())\n",
    "\n",
    "model.add(Conv2D(128, (3, 3), padding='same', activation='relu'))\n",
    "model.add(BatchNormalization())\n",
    "model.add(MaxPooling2D(pool_size=(2,2)))\n",
    "model.add(Dropout(0.2))    \n",
    "\n",
    "model.add(Conv2D(256, (3, 3), padding='same', activation='relu'))\n",
    "model.add(BatchNormalization())\n",
    "\n",
    "model.add(Conv2D(256, (3, 3), padding='same', activation='relu'))\n",
    "model.add(BatchNormalization())\n",
    "\n",
    "model.add(Conv2D(256, (3, 3), padding='same', activation='relu'))\n",
    "model.add(BatchNormalization())\n",
    "model.add(MaxPooling2D(pool_size=(2,2)))\n",
    "model.add(Dropout(0.2))    \n",
    "\n",
    "model.add(Conv2D(512, (3, 3), padding='same', activation='relu'))\n",
    "model.add(BatchNormalization())\n",
    "\n",
    "model.add(Conv2D(512, (3, 3), padding='same', activation='relu'))\n",
    "model.add(BatchNormalization())\n",
    "\n",
    "model.add(Conv2D(512, (3, 3), padding='same', activation='relu'))\n",
    "model.add(BatchNormalization())\n",
    "model.add(MaxPooling2D(pool_size=(2,2)))\n",
    "model.add(Dropout(0.2))    \n",
    "\n",
    "model.add(Flatten())\n",
    "\n",
    "model.add(Dense(512, activation='relu'))\n",
    "model.add(Dropout(0.2))\n",
    "\n",
    "model.add(Dense(256, activation='relu'))\n",
    "model.add(Dropout(0.2))\n",
    "\n",
    "model.add(Dense(128, activation='relu'))\n",
    "model.add(Dropout(0.2))\n",
    "\n",
    "model.add(Dense(64, activation='relu'))\n",
    "model.add(Dropout(0.2))\n",
    "\n",
    "model.add(Dense(4, activation='softmax'))\n"
   ]
  },
  {
   "cell_type": "code",
   "execution_count": 9,
   "metadata": {},
   "outputs": [
    {
     "name": "stdout",
     "output_type": "stream",
     "text": [
      "Model: \"sequential\"\n",
      "_________________________________________________________________\n",
      "Layer (type)                 Output Shape              Param #   \n",
      "=================================================================\n",
      "conv2d (Conv2D)              (None, 46, 46, 64)        640       \n",
      "_________________________________________________________________\n",
      "conv2d_1 (Conv2D)            (None, 46, 46, 64)        36928     \n",
      "_________________________________________________________________\n",
      "batch_normalization (BatchNo (None, 46, 46, 64)        256       \n",
      "_________________________________________________________________\n",
      "max_pooling2d (MaxPooling2D) (None, 23, 23, 64)        0         \n",
      "_________________________________________________________________\n",
      "dropout (Dropout)            (None, 23, 23, 64)        0         \n",
      "_________________________________________________________________\n",
      "conv2d_2 (Conv2D)            (None, 23, 23, 128)       73856     \n",
      "_________________________________________________________________\n",
      "batch_normalization_1 (Batch (None, 23, 23, 128)       512       \n",
      "_________________________________________________________________\n",
      "conv2d_3 (Conv2D)            (None, 23, 23, 128)       147584    \n",
      "_________________________________________________________________\n",
      "batch_normalization_2 (Batch (None, 23, 23, 128)       512       \n",
      "_________________________________________________________________\n",
      "conv2d_4 (Conv2D)            (None, 23, 23, 128)       147584    \n",
      "_________________________________________________________________\n",
      "batch_normalization_3 (Batch (None, 23, 23, 128)       512       \n",
      "_________________________________________________________________\n",
      "max_pooling2d_1 (MaxPooling2 (None, 11, 11, 128)       0         \n",
      "_________________________________________________________________\n",
      "dropout_1 (Dropout)          (None, 11, 11, 128)       0         \n",
      "_________________________________________________________________\n",
      "conv2d_5 (Conv2D)            (None, 11, 11, 256)       295168    \n",
      "_________________________________________________________________\n",
      "batch_normalization_4 (Batch (None, 11, 11, 256)       1024      \n",
      "_________________________________________________________________\n",
      "conv2d_6 (Conv2D)            (None, 11, 11, 256)       590080    \n",
      "_________________________________________________________________\n",
      "batch_normalization_5 (Batch (None, 11, 11, 256)       1024      \n",
      "_________________________________________________________________\n",
      "conv2d_7 (Conv2D)            (None, 11, 11, 256)       590080    \n",
      "_________________________________________________________________\n",
      "batch_normalization_6 (Batch (None, 11, 11, 256)       1024      \n",
      "_________________________________________________________________\n",
      "max_pooling2d_2 (MaxPooling2 (None, 5, 5, 256)         0         \n",
      "_________________________________________________________________\n",
      "dropout_2 (Dropout)          (None, 5, 5, 256)         0         \n",
      "_________________________________________________________________\n",
      "conv2d_8 (Conv2D)            (None, 5, 5, 512)         1180160   \n",
      "_________________________________________________________________\n",
      "batch_normalization_7 (Batch (None, 5, 5, 512)         2048      \n",
      "_________________________________________________________________\n",
      "conv2d_9 (Conv2D)            (None, 5, 5, 512)         2359808   \n",
      "_________________________________________________________________\n",
      "batch_normalization_8 (Batch (None, 5, 5, 512)         2048      \n",
      "_________________________________________________________________\n",
      "conv2d_10 (Conv2D)           (None, 5, 5, 512)         2359808   \n",
      "_________________________________________________________________\n",
      "batch_normalization_9 (Batch (None, 5, 5, 512)         2048      \n",
      "_________________________________________________________________\n",
      "max_pooling2d_3 (MaxPooling2 (None, 2, 2, 512)         0         \n",
      "_________________________________________________________________\n",
      "dropout_3 (Dropout)          (None, 2, 2, 512)         0         \n",
      "_________________________________________________________________\n",
      "flatten (Flatten)            (None, 2048)              0         \n",
      "_________________________________________________________________\n",
      "dense (Dense)                (None, 512)               1049088   \n",
      "_________________________________________________________________\n",
      "dropout_4 (Dropout)          (None, 512)               0         \n",
      "_________________________________________________________________\n",
      "dense_1 (Dense)              (None, 256)               131328    \n",
      "_________________________________________________________________\n",
      "dropout_5 (Dropout)          (None, 256)               0         \n",
      "_________________________________________________________________\n",
      "dense_2 (Dense)              (None, 128)               32896     \n",
      "_________________________________________________________________\n",
      "dropout_6 (Dropout)          (None, 128)               0         \n",
      "_________________________________________________________________\n",
      "dense_3 (Dense)              (None, 64)                8256      \n",
      "_________________________________________________________________\n",
      "dropout_7 (Dropout)          (None, 64)                0         \n",
      "_________________________________________________________________\n",
      "dense_4 (Dense)              (None, 4)                 260       \n",
      "=================================================================\n",
      "Total params: 9,014,532\n",
      "Trainable params: 9,009,028\n",
      "Non-trainable params: 5,504\n",
      "_________________________________________________________________\n"
     ]
    }
   ],
   "source": [
    "model.summary()"
   ]
  },
  {
   "cell_type": "code",
   "execution_count": 10,
   "metadata": {},
   "outputs": [],
   "source": [
    "# plot_model(model, to_file= 'model.png')\n",
    "# model_plot = plt.imread('model.png')\n",
    "# plt.imshow(model_plot)"
   ]
  },
  {
   "cell_type": "markdown",
   "metadata": {},
   "source": [
    "We will compile the network using Adam optimizer and will use a variable learning rate. Since we are dealing with a classification problem that involves multiple categories, we will use categorical_crossentropy as our loss function."
   ]
  },
  {
   "cell_type": "markdown",
   "metadata": {},
   "source": [
    "Callback functions\n",
    "Callback functions are those functions which are called after every epoch during the training process. We will be using the following callback functions:"
   ]
  },
  {
   "cell_type": "code",
   "execution_count": 11,
   "metadata": {},
   "outputs": [],
   "source": [
    "\n",
    "\n",
    "adam = optimizers.Adam(lr = learning_rate)\n",
    "\n",
    "model.compile(optimizer = adam, loss = 'categorical_crossentropy', metrics = ['accuracy'])    \n",
    "\n"
   ]
  },
  {
   "cell_type": "code",
   "execution_count": 12,
   "metadata": {},
   "outputs": [],
   "source": [
    "lr_reducer = ReduceLROnPlateau(monitor='val_loss', factor=0.9, patience=3)\n",
    "early_stopper = EarlyStopping(monitor='val_accuracy', min_delta=0, patience=6, mode='auto')\n",
    "checkpointer = ModelCheckpoint('rong_test_4_8_checkpoint_file.hd5', monitor='val_loss', verbose=1, save_best_only=True)\n",
    "\n",
    "callbacks=[lr_reducer, checkpointer, early_stopper]"
   ]
  },
  {
   "cell_type": "markdown",
   "metadata": {},
   "source": [
    "Time to train\n",
    "All our hard work is about to be put to the test. But before we fit the model, let us define some hyper-parameters.\n",
    "\n"
   ]
  },
  {
   "cell_type": "code",
   "execution_count": null,
   "metadata": {
    "scrolled": true
   },
   "outputs": [
    {
     "name": "stdout",
     "output_type": "stream",
     "text": [
      "Epoch 1/100\n",
      "434/434 [==============================] - ETA: 0s - loss: 1.3852 - accuracy: 0.3431\n",
      "Epoch 00001: val_loss improved from inf to 1.36424, saving model to rong_test_4_8_checkpoint_file.hd5\n",
      "WARNING:tensorflow:From /Users/rong/opt/anaconda3/lib/python3.7/site-packages/tensorflow/python/ops/resource_variable_ops.py:1817: calling BaseResourceVariable.__init__ (from tensorflow.python.ops.resource_variable_ops) with constraint is deprecated and will be removed in a future version.\n",
      "Instructions for updating:\n",
      "If using Keras pass *_constraint arguments to layers.\n",
      "INFO:tensorflow:Assets written to: rong_test_4_8_checkpoint_file.hd5/assets\n",
      "434/434 [==============================] - 1074s 2s/step - loss: 1.3852 - accuracy: 0.3431 - val_loss: 1.3642 - val_accuracy: 0.3387 - lr: 0.0010\n",
      "Epoch 2/100\n",
      "434/434 [==============================] - ETA: 0s - loss: 1.3035 - accuracy: 0.3826\n",
      "Epoch 00002: val_loss did not improve from 1.36424\n",
      "434/434 [==============================] - 894s 2s/step - loss: 1.3035 - accuracy: 0.3826 - val_loss: 1.4216 - val_accuracy: 0.3199 - lr: 0.0010\n",
      "Epoch 3/100\n",
      "434/434 [==============================] - ETA: 0s - loss: 1.1992 - accuracy: 0.4686\n",
      "Epoch 00003: val_loss improved from 1.36424 to 1.36313, saving model to rong_test_4_8_checkpoint_file.hd5\n",
      "INFO:tensorflow:Assets written to: rong_test_4_8_checkpoint_file.hd5/assets\n",
      "434/434 [==============================] - 894s 2s/step - loss: 1.1992 - accuracy: 0.4686 - val_loss: 1.3631 - val_accuracy: 0.3602 - lr: 0.0010\n",
      "Epoch 4/100\n",
      "434/434 [==============================] - ETA: 0s - loss: 1.0937 - accuracy: 0.5186\n",
      "Epoch 00004: val_loss improved from 1.36313 to 1.24982, saving model to rong_test_4_8_checkpoint_file.hd5\n",
      "INFO:tensorflow:Assets written to: rong_test_4_8_checkpoint_file.hd5/assets\n",
      "434/434 [==============================] - 899s 2s/step - loss: 1.0937 - accuracy: 0.5186 - val_loss: 1.2498 - val_accuracy: 0.4098 - lr: 0.0010\n",
      "Epoch 5/100\n",
      "434/434 [==============================] - ETA: 0s - loss: 1.0020 - accuracy: 0.5670\n",
      "Epoch 00005: val_loss did not improve from 1.24982\n",
      "434/434 [==============================] - 890s 2s/step - loss: 1.0020 - accuracy: 0.5670 - val_loss: 1.3732 - val_accuracy: 0.4594 - lr: 0.0010\n",
      "Epoch 6/100\n",
      "434/434 [==============================] - ETA: 0s - loss: 0.9438 - accuracy: 0.5987\n",
      "Epoch 00006: val_loss improved from 1.24982 to 1.16712, saving model to rong_test_4_8_checkpoint_file.hd5\n",
      "INFO:tensorflow:Assets written to: rong_test_4_8_checkpoint_file.hd5/assets\n",
      "434/434 [==============================] - 899s 2s/step - loss: 0.9438 - accuracy: 0.5987 - val_loss: 1.1671 - val_accuracy: 0.5348 - lr: 0.0010\n",
      "Epoch 7/100\n",
      "434/434 [==============================] - ETA: 0s - loss: 0.9139 - accuracy: 0.6178\n",
      "Epoch 00007: val_loss improved from 1.16712 to 1.15805, saving model to rong_test_4_8_checkpoint_file.hd5\n",
      "INFO:tensorflow:Assets written to: rong_test_4_8_checkpoint_file.hd5/assets\n",
      "434/434 [==============================] - 888s 2s/step - loss: 0.9139 - accuracy: 0.6178 - val_loss: 1.1581 - val_accuracy: 0.5199 - lr: 0.0010\n",
      "Epoch 8/100\n",
      "434/434 [==============================] - ETA: 0s - loss: 0.8766 - accuracy: 0.6373\n",
      "Epoch 00008: val_loss did not improve from 1.15805\n",
      "434/434 [==============================] - 481s 1s/step - loss: 0.8766 - accuracy: 0.6373 - val_loss: 1.1946 - val_accuracy: 0.5473 - lr: 0.0010\n",
      "Epoch 9/100\n",
      "434/434 [==============================] - ETA: 0s - loss: 0.8520 - accuracy: 0.6516\n",
      "Epoch 00009: val_loss did not improve from 1.15805\n",
      "434/434 [==============================] - 476s 1s/step - loss: 0.8520 - accuracy: 0.6516 - val_loss: 1.3777 - val_accuracy: 0.5023 - lr: 0.0010\n",
      "Epoch 10/100\n",
      "434/434 [==============================] - ETA: 0s - loss: 0.8390 - accuracy: 0.6618\n",
      "Epoch 00010: val_loss improved from 1.15805 to 1.12918, saving model to rong_test_4_8_checkpoint_file.hd5\n",
      "INFO:tensorflow:Assets written to: rong_test_4_8_checkpoint_file.hd5/assets\n",
      "434/434 [==============================] - 483s 1s/step - loss: 0.8390 - accuracy: 0.6618 - val_loss: 1.1292 - val_accuracy: 0.5574 - lr: 0.0010\n",
      "Epoch 11/100\n",
      "434/434 [==============================] - ETA: 0s - loss: 0.8182 - accuracy: 0.6686\n",
      "Epoch 00011: val_loss did not improve from 1.12918\n",
      "434/434 [==============================] - 477s 1s/step - loss: 0.8182 - accuracy: 0.6686 - val_loss: 1.1731 - val_accuracy: 0.5801 - lr: 0.0010\n",
      "Epoch 12/100\n",
      "434/434 [==============================] - ETA: 0s - loss: 0.8032 - accuracy: 0.6780\n",
      "Epoch 00012: val_loss did not improve from 1.12918\n",
      "434/434 [==============================] - 472s 1s/step - loss: 0.8032 - accuracy: 0.6780 - val_loss: 1.1383 - val_accuracy: 0.5734 - lr: 0.0010\n",
      "Epoch 13/100\n",
      "434/434 [==============================] - ETA: 0s - loss: 0.7843 - accuracy: 0.6918\n",
      "Epoch 00013: val_loss did not improve from 1.12918\n",
      "434/434 [==============================] - 474s 1s/step - loss: 0.7843 - accuracy: 0.6918 - val_loss: 1.1612 - val_accuracy: 0.5465 - lr: 0.0010\n",
      "Epoch 14/100\n",
      "434/434 [==============================] - ETA: 0s - loss: 0.7574 - accuracy: 0.7062\n",
      "Epoch 00014: val_loss improved from 1.12918 to 1.10782, saving model to rong_test_4_8_checkpoint_file.hd5\n",
      "INFO:tensorflow:Assets written to: rong_test_4_8_checkpoint_file.hd5/assets\n",
      "434/434 [==============================] - 478s 1s/step - loss: 0.7574 - accuracy: 0.7062 - val_loss: 1.1078 - val_accuracy: 0.5418 - lr: 9.0000e-04\n",
      "Epoch 15/100\n",
      "434/434 [==============================] - ETA: 0s - loss: 0.7476 - accuracy: 0.7104\n",
      "Epoch 00015: val_loss improved from 1.10782 to 1.08864, saving model to rong_test_4_8_checkpoint_file.hd5\n",
      "INFO:tensorflow:Assets written to: rong_test_4_8_checkpoint_file.hd5/assets\n",
      "434/434 [==============================] - 479s 1s/step - loss: 0.7476 - accuracy: 0.7104 - val_loss: 1.0886 - val_accuracy: 0.5969 - lr: 9.0000e-04\n",
      "Epoch 16/100\n",
      "434/434 [==============================] - ETA: 0s - loss: 0.7372 - accuracy: 0.7160\n",
      "Epoch 00016: val_loss did not improve from 1.08864\n",
      "434/434 [==============================] - 474s 1s/step - loss: 0.7372 - accuracy: 0.7160 - val_loss: 1.1100 - val_accuracy: 0.5699 - lr: 9.0000e-04\n",
      "Epoch 17/100\n",
      "434/434 [==============================] - ETA: 0s - loss: 0.7255 - accuracy: 0.7212\n",
      "Epoch 00017: val_loss did not improve from 1.08864\n",
      "434/434 [==============================] - 473s 1s/step - loss: 0.7255 - accuracy: 0.7212 - val_loss: 1.0901 - val_accuracy: 0.5852 - lr: 9.0000e-04\n",
      "Epoch 18/100\n",
      "434/434 [==============================] - ETA: 0s - loss: 0.7146 - accuracy: 0.7247\n",
      "Epoch 00018: val_loss did not improve from 1.08864\n",
      "434/434 [==============================] - 474s 1s/step - loss: 0.7146 - accuracy: 0.7247 - val_loss: 1.1324 - val_accuracy: 0.5961 - lr: 9.0000e-04\n",
      "Epoch 19/100\n",
      "434/434 [==============================] - ETA: 0s - loss: 0.6935 - accuracy: 0.7349\n",
      "Epoch 00019: val_loss improved from 1.08864 to 1.05227, saving model to rong_test_4_8_checkpoint_file.hd5\n",
      "INFO:tensorflow:Assets written to: rong_test_4_8_checkpoint_file.hd5/assets\n",
      "434/434 [==============================] - 478s 1s/step - loss: 0.6935 - accuracy: 0.7349 - val_loss: 1.0523 - val_accuracy: 0.5789 - lr: 8.1000e-04\n",
      "Epoch 20/100\n",
      "434/434 [==============================] - ETA: 0s - loss: 0.6816 - accuracy: 0.7410\n",
      "Epoch 00020: val_loss did not improve from 1.05227\n",
      "434/434 [==============================] - 474s 1s/step - loss: 0.6816 - accuracy: 0.7410 - val_loss: 1.0901 - val_accuracy: 0.5840 - lr: 8.1000e-04\n",
      "Epoch 21/100\n",
      "434/434 [==============================] - ETA: 0s - loss: 0.6695 - accuracy: 0.7472\n",
      "Epoch 00021: val_loss did not improve from 1.05227\n",
      "434/434 [==============================] - 473s 1s/step - loss: 0.6695 - accuracy: 0.7472 - val_loss: 1.2758 - val_accuracy: 0.5793 - lr: 8.1000e-04\n",
      "CPU times: user 18h 2min 6s, sys: 48min 10s, total: 18h 50min 16s\n",
      "Wall time: 3h 38min 54s\n"
     ]
    }
   ],
   "source": [
    "%%time\n",
    "# epochs = 100\n",
    "# batch_size = 64\n",
    "# learning_rate = 0.001\n",
    "\n",
    "# model.fit(train_data,\n",
    "#           train_labels,\n",
    "#           epochs = epochs,\n",
    "#           batch_size = batch_size,\n",
    "#           validation_split = 0.2,\n",
    "#           shuffle = True,\n",
    "#           callbacks=[lr_reducer, checkpointer, early_stopper]\n",
    "#          )\n",
    "\n",
    "model_info = model.fit(\n",
    "            train_generator,\n",
    "            steps_per_epoch=nb_train_samples // batch_size,\n",
    "            epochs=epochs,\n",
    "            callbacks = callbacks,\n",
    "            validation_data=validation_generator,\n",
    "            validation_steps=nb_validation_samples // batch_size)\n",
    "\n",
    "model_json = model.to_json()\n",
    "with open(\"rong_test_4_8_model_file_json.json\", \"w\") as json_file:\n",
    "    json_file.write(model_json)\n",
    "    \n",
    "model.save_weights('rong_test_4_8_weights.h5')\n",
    "model.save('rong_test_4_8_model_file.h5')"
   ]
  },
  {
   "cell_type": "markdown",
   "metadata": {},
   "source": [
    "Now that the network is being trained, I suggest that you go and finish that book you started or go for a run. It took me about an hour on Google Colab.\n",
    "\n",
    "Test the model\n",
    "Remember the private set we stored separately? That was for this very moment. This is the moment of truth and this is where we will reap the fruit of our labor.\n"
   ]
  },
  {
   "cell_type": "code",
   "execution_count": null,
   "metadata": {},
   "outputs": [],
   "source": [
    "# predicted_test_labels = np.argmax(model.predict(test_data), axis=1)\n",
    "# test_labels = np.argmax(test_labels, axis=1)\n",
    "\n",
    "# print (\"Accuracy score = \", accuracy_score(test_labels, predicted_test_labels))\n"
   ]
  },
  {
   "cell_type": "code",
   "execution_count": null,
   "metadata": {},
   "outputs": [],
   "source": [
    "# model_json = model.to_json()\n",
    "# with open(\"rong_test_4_1_model_file_json.json\", \"w\") as json_file:\n",
    "#     json_file.write(model_json)\n",
    "# # serialize weights to HDF5\n",
    "# # model.save_weights(\"/content/gdrive/My Drive/Colab Notebooks/Emotion Recognition/FERmodel.h5\")\n",
    "# # print(\"Saved model to disk\")"
   ]
  },
  {
   "cell_type": "code",
   "execution_count": null,
   "metadata": {},
   "outputs": [],
   "source": [
    "# model.save_weights('rong_test_4_1_weights.h5')\n",
    "# model.save('rong_test_4_1_model_file.h5')"
   ]
  },
  {
   "cell_type": "code",
   "execution_count": null,
   "metadata": {},
   "outputs": [
    {
     "name": "stdout",
     "output_type": "stream",
     "text": [
      "dict_keys(['loss', 'accuracy', 'val_loss', 'val_accuracy', 'lr'])\n"
     ]
    },
    {
     "data": {
      "image/png": "[encoded data removed]",
      "text/plain": [
       "<Figure size 432x288 with 1 Axes>"
      ]
     },
     "metadata": {
      "needs_background": "light"
     },
     "output_type": "display_data"
    }
   ],
   "source": [
    "print(model_info.history.keys())\n",
    "\n",
    "import matplotlib.pyplot as plt\n",
    "plt.plot(model_info.history['loss'])\n",
    "plt.plot(model_info.history['val_loss'])\n",
    "plt.title('model loss')\n",
    "plt.ylabel('loss')\n",
    "plt.xlabel('epoch')\n",
    "plt.legend(['train', 'test'], loc='upper left')\n",
    "plt.show()"
   ]
  },
  {
   "cell_type": "code",
   "execution_count": null,
   "metadata": {},
   "outputs": [
    {
     "data": {
      "text/plain": [
       "2"
      ]
     },
     "execution_count": 18,
     "metadata": {},
     "output_type": "execute_result"
    }
   ],
   "source": [
    "1+1"
   ]
  },
  {
   "cell_type": "code",
   "execution_count": null,
   "metadata": {},
   "outputs": [],
   "source": []
  },
  {
   "cell_type": "code",
   "execution_count": null,
   "metadata": {},
   "outputs": [],
   "source": []
  },
  {
   "cell_type": "code",
   "execution_count": null,
   "metadata": {},
   "outputs": [],
   "source": []
  },
  {
   "cell_type": "code",
   "execution_count": null,
   "metadata": {},
   "outputs": [],
   "source": []
  }
 ],
 "metadata": {
  "kernelspec": {
   "display_name": "Python 3",
   "language": "python",
   "name": "python3"
  },
  "language_info": {
   "codemirror_mode": {
    "name": "ipython",
    "version": 3
   },
   "file_extension": ".py",
   "mimetype": "text/x-python",
   "name": "python",
   "nbconvert_exporter": "python",
   "pygments_lexer": "ipython3",
   "version": "3.7.6"
  }
 },
 "nbformat": 4,
 "nbformat_minor": 4
}
