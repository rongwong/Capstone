{
 "cells": [
  {
   "cell_type": "code",
   "execution_count": 1,
   "metadata": {},
   "outputs": [],
   "source": [
    "import glob\n",
    "#import cv2\n",
    "from shutil import copyfile\n"
   ]
  },
  {
   "cell_type": "code",
   "execution_count": 30,
   "metadata": {},
   "outputs": [],
   "source": [
    "# Picking out last 6 emotion frames and first 2 neutral frames from CK+ \n",
    "\n",
    "emotions = [\"neutral\", \"anger\", \"contempt\", \"disgust\", \"fear\", \"happy\", \"sadness\", \"surprise\"] #Define emotion order\n",
    "participants = glob.glob(\"source_emotion//*\") #Returns a list of all folders with participant numbers\n",
    "for x in participants:\n",
    "    part = \"%s\" %x[-4:] #store current participant number\n",
    "    for sessions in glob.glob(\"%s//*\" %x): #Store list of sessions for current participant\n",
    "        for files in glob.glob(\"%s//*\" %sessions):\n",
    "            current_session = files[20:-30]\n",
    "            file = open(files, 'r')\n",
    "            emotion = int(float(file.readline())) #emotions are encoded as a float, readline as float, then convert to integer.\n",
    "            sourcefile_emotion1 = sorted(glob.glob(\"source_images//%s//%s//*\" %(part, current_session)))[-1] #get path for last image in sequence, which contains the emotion\n",
    "            sourcefile_emotion2 = sorted(glob.glob(\"source_images//%s//%s//*\" %(part, current_session)))[-2] #get path for last image in sequence,\n",
    "            sourcefile_emotion3 = sorted(glob.glob(\"source_images//%s//%s//*\" %(part, current_session)))[-3] #get path for last image in sequence,\n",
    "            sourcefile_emotion4 = sorted(glob.glob(\"source_images//%s//%s//*\" %(part, current_session)))[-4] #get path for last image in sequence,            \n",
    "            sourcefile_emotion5 = sorted(glob.glob(\"source_images//%s//%s//*\" %(part, current_session)))[-5] #get path for last image in sequence,\n",
    "            sourcefile_emotion6 = sorted(glob.glob(\"source_images//%s//%s//*\" %(part, current_session)))[-6] #get path for last image in sequence, \n",
    "            sourcefile_neutral1 = sorted(glob.glob(\"source_images//%s//%s//*\" %(part, current_session)))[0] #do same for neutral image\n",
    "            sourcefile_neutral2 = sorted(glob.glob(\"source_images//%s//%s//*\" %(part, current_session)))[1] #do same for neutral image\n",
    "\n",
    "\n",
    "            dest_emot1 = \"sorted_set//%s//%s\" %(emotions[emotion], sourcefile_emotion1[25:]) #Do same for emotion containing image\n",
    "            dest_emot2 = \"sorted_set//%s//%s\" %(emotions[emotion], sourcefile_emotion2[25:]) #Do same for emotion containing image\n",
    "            dest_emot3 = \"sorted_set//%s//%s\" %(emotions[emotion], sourcefile_emotion3[25:]) #Do same for emotion containing image\n",
    "            dest_emot4 = \"sorted_set//%s//%s\" %(emotions[emotion], sourcefile_emotion4[25:]) #Do same for emotion containing image\n",
    "            dest_emot5 = \"sorted_set//%s//%s\" %(emotions[emotion], sourcefile_emotion5[25:]) #Do same for emotion containing image\n",
    "            dest_emot6 = \"sorted_set//%s//%s\" %(emotions[emotion], sourcefile_emotion6[25:]) #Do same for emotion containing image\n",
    "            dest_neut1 = \"sorted_set//neutral//%s\" %sourcefile_neutral1[25:] #Generate path to put neutral image\n",
    "            dest_neut2 = \"sorted_set//neutral//%s\" %sourcefile_neutral2[25:] #Generate path to put neutral image\n",
    "            \n",
    "            copyfile(sourcefile_emotion1, dest_emot1) #Copy file\n",
    "            copyfile(sourcefile_emotion2, dest_emot2) #Copy file\n",
    "            copyfile(sourcefile_emotion3, dest_emot3) #Copy file\n",
    "            copyfile(sourcefile_emotion4, dest_emot4) #Copy file\n",
    "            copyfile(sourcefile_emotion5, dest_emot5) #Copy file\n",
    "            copyfile(sourcefile_emotion6, dest_emot6) #Copy file\n",
    "            copyfile(sourcefile_neutral1, dest_neut1) #Copy file\n",
    "            copyfile(sourcefile_neutral2, dest_neut2) #Copy file\n",
    "\n",
    "#code credit: van Gent, P. (2016). Emotion Recognition With Python, OpenCV and a Face Dataset. \n",
    "#A tech blog about fun things with Python and embedded electronics. Retrieved from:\n",
    "#http://www.paulvangent.com/2016/04/01/emotion-recognition-with-python-opencv-and-a-face-dataset/"
   ]
  },
  {
   "cell_type": "code",
   "execution_count": null,
   "metadata": {},
   "outputs": [],
   "source": []
  },
  {
   "cell_type": "code",
   "execution_count": null,
   "metadata": {},
   "outputs": [],
   "source": []
  },
  {
   "cell_type": "code",
   "execution_count": null,
   "metadata": {},
   "outputs": [],
   "source": []
  },
  {
   "cell_type": "code",
   "execution_count": null,
   "metadata": {},
   "outputs": [],
   "source": []
  },
  {
   "cell_type": "code",
   "execution_count": null,
   "metadata": {},
   "outputs": [],
   "source": []
  },
  {
   "cell_type": "code",
   "execution_count": null,
   "metadata": {},
   "outputs": [],
   "source": []
  },
  {
   "cell_type": "code",
   "execution_count": null,
   "metadata": {},
   "outputs": [],
   "source": []
  },
  {
   "cell_type": "code",
   "execution_count": null,
   "metadata": {},
   "outputs": [],
   "source": []
  }
 ],
 "metadata": {
  "kernelspec": {
   "display_name": "Python 3",
   "language": "python",
   "name": "python3"
  },
  "language_info": {
   "codemirror_mode": {
    "name": "ipython",
    "version": 3
   },
   "file_extension": ".py",
   "mimetype": "text/x-python",
   "name": "python",
   "nbconvert_exporter": "python",
   "pygments_lexer": "ipython3",
   "version": "3.7.6"
  }
 },
 "nbformat": 4,
 "nbformat_minor": 4
}
