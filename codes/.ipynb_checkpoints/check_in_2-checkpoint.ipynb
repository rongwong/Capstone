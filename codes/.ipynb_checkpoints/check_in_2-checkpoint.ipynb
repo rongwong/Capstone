{
 "cells": [
  {
   "cell_type": "markdown",
   "metadata": {},
   "source": [
    "i currently have 2 datasets in hand:\n",
    "\n",
    "1. KDEF - set of 7 emotions\n",
    "2. fer 2013 - set of 7 emotions\n",
    "3. GENKI 4k - of which i will only use the smiling images as an add-on "
   ]
  },
  {
   "cell_type": "markdown",
   "metadata": {},
   "source": [
    "have not done full EDA"
   ]
  },
  {
   "cell_type": "markdown",
   "metadata": {},
   "source": [
    "modeling, 3 models, 2 working, top acccuracy is 25% from 489 images in train set"
   ]
  },
  {
   "cell_type": "markdown",
   "metadata": {},
   "source": [
    "Questions:\n",
    "\n",
    "about accuracy, what can be done to improve the model besides having more data\n",
    "if dataset is too large for github, where do i put it, how do i link my final jupyter notebook to it?\n",
    "\n",
    "\n",
    "\n"
   ]
  },
  {
   "cell_type": "code",
   "execution_count": 1,
   "metadata": {},
   "outputs": [],
   "source": [
    "import tensorflow as tf\n"
   ]
  },
  {
   "cell_type": "code",
   "execution_count": 2,
   "metadata": {},
   "outputs": [
    {
     "name": "stdout",
     "output_type": "stream",
     "text": [
      "2.2.0\n"
     ]
    }
   ],
   "source": [
    "print(tf.__version__)"
   ]
  },
  {
   "cell_type": "code",
   "execution_count": 3,
   "metadata": {},
   "outputs": [
    {
     "name": "stdout",
     "output_type": "stream",
     "text": [
      "Collecting tensorflow==1.13.1\n",
      "  Downloading tensorflow-1.13.1-cp37-cp37m-macosx_10_11_x86_64.whl (73.6 MB)\n",
      "\u001b[K     |████████████████████████████████| 73.6 MB 26.7 MB/s eta 0:00:01\n",
      "\u001b[?25hRequirement already satisfied: absl-py>=0.1.6 in /Users/rong/opt/anaconda3/lib/python3.7/site-packages (from tensorflow==1.13.1) (0.9.0)\n",
      "Requirement already satisfied: wheel>=0.26 in /Users/rong/opt/anaconda3/lib/python3.7/site-packages (from tensorflow==1.13.1) (0.34.2)\n",
      "Collecting keras-applications>=1.0.6\n",
      "  Downloading Keras_Applications-1.0.8-py3-none-any.whl (50 kB)\n",
      "\u001b[K     |████████████████████████████████| 50 kB 21.6 MB/s eta 0:00:01\n",
      "\u001b[?25hRequirement already satisfied: keras-preprocessing>=1.0.5 in /Users/rong/opt/anaconda3/lib/python3.7/site-packages (from tensorflow==1.13.1) (1.1.2)\n",
      "Requirement already satisfied: numpy>=1.13.3 in /Users/rong/opt/anaconda3/lib/python3.7/site-packages (from tensorflow==1.13.1) (1.18.4)\n",
      "Requirement already satisfied: six>=1.10.0 in /Users/rong/opt/anaconda3/lib/python3.7/site-packages (from tensorflow==1.13.1) (1.14.0)\n",
      "Collecting tensorboard<1.14.0,>=1.13.0\n",
      "  Downloading tensorboard-1.13.1-py3-none-any.whl (3.2 MB)\n",
      "\u001b[K     |████████████████████████████████| 3.2 MB 70.3 MB/s eta 0:00:01\n",
      "\u001b[?25hRequirement already satisfied: grpcio>=1.8.6 in /Users/rong/opt/anaconda3/lib/python3.7/site-packages (from tensorflow==1.13.1) (1.30.0)\n",
      "Requirement already satisfied: termcolor>=1.1.0 in /Users/rong/opt/anaconda3/lib/python3.7/site-packages (from tensorflow==1.13.1) (1.1.0)\n",
      "Collecting tensorflow-estimator<1.14.0rc0,>=1.13.0\n",
      "  Downloading tensorflow_estimator-1.13.0-py2.py3-none-any.whl (367 kB)\n",
      "\u001b[K     |████████████████████████████████| 367 kB 40.4 MB/s eta 0:00:01\n",
      "\u001b[?25hRequirement already satisfied: protobuf>=3.6.1 in /Users/rong/opt/anaconda3/lib/python3.7/site-packages (from tensorflow==1.13.1) (3.12.2)\n",
      "Collecting astor>=0.6.0\n",
      "  Downloading astor-0.8.1-py2.py3-none-any.whl (27 kB)\n",
      "Requirement already satisfied: gast>=0.2.0 in /Users/rong/opt/anaconda3/lib/python3.7/site-packages (from tensorflow==1.13.1) (0.3.3)\n",
      "Requirement already satisfied: h5py in /Users/rong/opt/anaconda3/lib/python3.7/site-packages (from keras-applications>=1.0.6->tensorflow==1.13.1) (2.10.0)\n",
      "Requirement already satisfied: werkzeug>=0.11.15 in /Users/rong/opt/anaconda3/lib/python3.7/site-packages (from tensorboard<1.14.0,>=1.13.0->tensorflow==1.13.1) (1.0.0)\n",
      "Requirement already satisfied: markdown>=2.6.8 in /Users/rong/opt/anaconda3/lib/python3.7/site-packages (from tensorboard<1.14.0,>=1.13.0->tensorflow==1.13.1) (3.2.2)\n",
      "Requirement already satisfied: mock>=2.0.0 in /Users/rong/opt/anaconda3/lib/python3.7/site-packages (from tensorflow-estimator<1.14.0rc0,>=1.13.0->tensorflow==1.13.1) (4.0.1)\n",
      "Requirement already satisfied: setuptools in /Users/rong/opt/anaconda3/lib/python3.7/site-packages (from protobuf>=3.6.1->tensorflow==1.13.1) (46.0.0.post20200309)\n",
      "Requirement already satisfied: importlib-metadata; python_version < \"3.8\" in /Users/rong/opt/anaconda3/lib/python3.7/site-packages (from markdown>=2.6.8->tensorboard<1.14.0,>=1.13.0->tensorflow==1.13.1) (1.5.0)\n",
      "Requirement already satisfied: zipp>=0.5 in /Users/rong/opt/anaconda3/lib/python3.7/site-packages (from importlib-metadata; python_version < \"3.8\"->markdown>=2.6.8->tensorboard<1.14.0,>=1.13.0->tensorflow==1.13.1) (2.2.0)\n",
      "Installing collected packages: keras-applications, tensorboard, tensorflow-estimator, astor, tensorflow\n",
      "  Attempting uninstall: tensorboard\n",
      "    Found existing installation: tensorboard 2.2.2\n",
      "    Uninstalling tensorboard-2.2.2:\n",
      "      Successfully uninstalled tensorboard-2.2.2\n",
      "  Attempting uninstall: tensorflow-estimator\n",
      "    Found existing installation: tensorflow-estimator 2.2.0\n",
      "    Uninstalling tensorflow-estimator-2.2.0:\n",
      "      Successfully uninstalled tensorflow-estimator-2.2.0\n",
      "  Attempting uninstall: tensorflow\n",
      "    Found existing installation: tensorflow 2.2.0\n",
      "    Uninstalling tensorflow-2.2.0:\n",
      "      Successfully uninstalled tensorflow-2.2.0\n",
      "Successfully installed astor-0.8.1 keras-applications-1.0.8 tensorboard-1.13.1 tensorflow-1.13.1 tensorflow-estimator-1.13.0\n"
     ]
    }
   ],
   "source": [
    "!pip install tensorflow==1.13.1"
   ]
  },
  {
   "cell_type": "code",
   "execution_count": null,
   "metadata": {},
   "outputs": [],
   "source": []
  }
 ],
 "metadata": {
  "kernelspec": {
   "display_name": "Python 3",
   "language": "python",
   "name": "python3"
  },
  "language_info": {
   "codemirror_mode": {
    "name": "ipython",
    "version": 3
   },
   "file_extension": ".py",
   "mimetype": "text/x-python",
   "name": "python",
   "nbconvert_exporter": "python",
   "pygments_lexer": "ipython3",
   "version": "3.7.6"
  }
 },
 "nbformat": 4,
 "nbformat_minor": 4
}
