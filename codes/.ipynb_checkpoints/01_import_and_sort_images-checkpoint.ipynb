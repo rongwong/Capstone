{
 "cells": [
  {
   "cell_type": "markdown",
   "metadata": {},
   "source": [
    "<div class=\"alert alert-block alert-warning\">\n",
    "<b>Important note: this notebook creates folders, do not re-run this notebook!</b>\n",
    "    \n",
    "to re-run:\n",
    "- move sorted CK+ 3 folders into \"codes\", empty sorted folders\n",
    "- empty fer2013 \"combined\" folders\n",
    "- empty KDEF sorted set\n",
    "</div>"
   ]
  },
  {
   "cell_type": "markdown",
   "metadata": {},
   "source": [
    "## 1.0 The Data\n",
    "\n",
    "For this task, I have gathered four datasets:\n",
    "\n",
    "- <b>CK+</b>: The Extended Cohn-Kanade (CK+) database, 593 sequences across 123 subjects, labelled 8 emotions.\n",
    "- <b>FER-2013</b>: The Facial Expression Recognition 2013 (FER-2013) Dataset, 32,298 images, labelled 7 emotions.\n",
    "- <b>KDEF</b>: The Karolinska Directed Emotional Faces (KDEF), 4900 images across 70 subjects, labelled 7 emotions.\n",
    "- <b>GENKI-4K</b>: The MPLab GENKI Database , 4000 images, labelled 2 emotions.\n",
    "\n",
    "This notebook will extract the images from the different datasets (which are formatted differently) and sort them into emotion folders, for further processing."
   ]
  },
  {
   "cell_type": "markdown",
   "metadata": {},
   "source": [
    "### Imports:"
   ]
  },
  {
   "cell_type": "code",
   "execution_count": 1,
   "metadata": {
    "scrolled": true
   },
   "outputs": [],
   "source": [
    "import re\n",
    "import glob\n",
    "import shutil\n",
    "from shutil import copyfile"
   ]
  },
  {
   "cell_type": "markdown",
   "metadata": {},
   "source": [
    "### Defined Functions:"
   ]
  },
  {
   "cell_type": "code",
   "execution_count": 2,
   "metadata": {},
   "outputs": [],
   "source": [
    "def all_to_train(loop_list, end_directory):\n",
    "    \"\"\"moves images from folders into another folder\"\"\"\n",
    "    for paths in loop_list:\n",
    "        for image in paths:\n",
    "            copyfile(image, end_directory)\n",
    "            "
   ]
  },
  {
   "cell_type": "code",
   "execution_count": 3,
   "metadata": {},
   "outputs": [],
   "source": [
    "def fer_to_combined(loop_list, end_directory):\n",
    "    \"\"\"moves images from fer2013 folders into combined folder\"\"\"\n",
    "    img_num = 0\n",
    "    for paths in loop_list:\n",
    "        for image in paths:\n",
    "            copyfile(image, end_directory %(img_num,))\n",
    "            img_num +=1"
   ]
  },
  {
   "cell_type": "markdown",
   "metadata": {},
   "source": [
    "***"
   ]
  },
  {
   "cell_type": "markdown",
   "metadata": {},
   "source": [
    "## 1.1 Extraction and sorting"
   ]
  },
  {
   "cell_type": "markdown",
   "metadata": {},
   "source": [
    "#### KDEF\n",
    "\n",
    "KDEF data is sorted into individiual participant folder with emotion and angle infomation is stored in the file name. \n",
    "\n",
    "KDEF --> participant_no --> images\n",
    "\n",
    "> e.g AM30ANHL.JPG<br>\n",
    "> Participant: AM30<br>\n",
    "> Emotion: AN - anger<br>\n",
    "> Photo angle: HL -  half-left profile facing<br>\n",
    "\n",
    "Goal: To keep only images facing the front and 45 degree side, then sort data into 4 folders: angry, happy, neutral, sad.\n",
    "\n",
    "Process: \n",
    "1. To extract Images with HL, HR, S in the image name (half left profile, straight, half right profile)\n",
    "2. copy file into a sorted directory of 4 emotion folders"
   ]
  },
  {
   "cell_type": "code",
   "execution_count": 4,
   "metadata": {},
   "outputs": [],
   "source": [
    "# extracting and sorting KDEF files into 4 emotions:\n",
    "\n",
    "#list for each emotion\n",
    "AN=0 #Angry\n",
    "HA=0 #Happy\n",
    "NE=0 #Neutral\n",
    "SA=0 #Sad\n",
    "\n",
    "\n",
    "participants = glob.glob(\"../datasets/KDEF/KDEF/*\")\n",
    "\n",
    "#get folder number\n",
    "for x in participants:\n",
    "    \n",
    "    #get folder number\n",
    "    part = \"%s\" %x[-4:] \n",
    "    \n",
    "    #for each folder\n",
    "    for file in glob.glob(\"../datasets/KDEF/KDEF/%s/*\" %part):\n",
    "        \n",
    "        #search using regex for emotion, HL, HR and S view\n",
    "        search_an = re.search('^.*\\S.\\d.AN[H|S].*', file)\n",
    "        \n",
    "        #if search is a success\n",
    "        if search_an is not None:\n",
    "            \n",
    "            #copy file into new directory with new file name\n",
    "            _ = copyfile(file, \"../datasets/KDEF/sorted_set/angry/%s.jpg\" %('AN'+ str(AN),))\n",
    "            AN+=1\n",
    "            \n",
    "        #if not, continue searching for other 3 emotions\n",
    "        else:\n",
    "            search_ha = re.search('^.*\\S.\\d.HA[H|S].*', file)\n",
    "            if search_ha is not None:\n",
    "                _ = copyfile(file, \"../datasets/KDEF/sorted_set/happy/%s.jpg\" %('HA'+ str(HA),))\n",
    "                HA+=1\n",
    "                \n",
    "            else:\n",
    "                search_ne= re.search('^.*\\S.\\d.NE[H|S].*', file)\n",
    "                if search_ne is not None:\n",
    "                    _ = copyfile(file, \"../datasets/KDEF/sorted_set/neutral/%s.jpg\" %('NE'+ str(NE),))\n",
    "                    NE+=1    \n",
    "                    \n",
    "                else:\n",
    "                    search_sa= re.search('^.*\\S.\\d.SA[H|S].*', file)\n",
    "                    if search_sa is not None:\n",
    "                        _ = copyfile(file, \"../datasets/KDEF/sorted_set/sad/%s.jpg\" %('SA'+ str(SA),))\n",
    "                        SA+=1  \n",
    "                        \n",
    "                    else:\n",
    "                        continue\n"
   ]
  },
  {
   "cell_type": "markdown",
   "metadata": {},
   "source": [
    "***"
   ]
  },
  {
   "cell_type": "markdown",
   "metadata": {},
   "source": [
    "#### CK+\n",
    "\n",
    "CK+ Data is sorted into 2 folders: source_emotion, source_images. Image data is seprated from images and images are in sequence of pictures ranging from neutral to peak emotion.\n",
    "\n",
    "source_emotion --> participant_no --> session_no(if any e.g 001) --> text file with emotion number (e.g 3)\n",
    "source_images --> participant_no --> session_no(if any e.g 001) --> several images in sequence (not fixed qty)\n",
    "\n",
    "e.g participant (folder:S005) has only one folder (folder:001) with \"3.0\" in text file= disgust, 11 images\n",
    "e.g participant (folder:S010) has six folder (folder:002) with \"7.0\" in text file= disgust, 14 images\n",
    "\n",
    "Goal: To extract only first 2 images for neutral, last 6 images for peak emotion and sort into emotion folder.\n",
    "\n",
    "Process:\n",
    "1. sort emotions in order of their numbers in text file\n",
    "2. extract emotion_no by txt file and tag to emotions list\n",
    "3. extract images by same participant number and session (first 2, last 6)\n",
    "4. tag emotions and sort into emotion folders with copy\n",
    "5. move folders into dataset"
   ]
  },
  {
   "cell_type": "code",
   "execution_count": 5,
   "metadata": {},
   "outputs": [
    {
     "name": "stdout",
     "output_type": "stream",
     "text": [
      "(:\n"
     ]
    }
   ],
   "source": [
    "# extracting and sorting CK+ files into 8 emotions:\n",
    "# pick out last 6 emotion frames and first 2 neutral frames from CK+ \n",
    "\n",
    "#Define emotion order\n",
    "emotions = [\"neutral\", \"anger\", \"contempt\", \"disgust\", \"fear\", \"happy\", \"sadness\", \"surprise\"] \n",
    "\n",
    "#Returns a list of all folders with participant numbers\n",
    "participants = glob.glob(\"source_emotion/*\") \n",
    "\n",
    "\n",
    "#store current participant number\n",
    "for x in participants:\n",
    "    part = \"%s\" %x[-4:] \n",
    "    \n",
    "    #Store list of sessions for current participant\n",
    "    for sessions in glob.glob(\"%s//*\" %x): \n",
    "        for files in glob.glob(\"%s//*\" %sessions):\n",
    "            current_session = files[20:-30]\n",
    "            file = open(files, 'r')\n",
    "            \n",
    "            #emotions are encoded as a float, readline as float, then convert to integer.\n",
    "            emotion = int(float(file.readline())) \n",
    "            \n",
    "            #get path for last 6 images in sequence, which contains the target emotion\n",
    "\n",
    "            sourcefile_emotion1 = sorted(glob.glob(\"source_images//%s//%s//*\" %(part, current_session)))[-1] \n",
    "            sourcefile_emotion2 = sorted(glob.glob(\"source_images//%s//%s//*\" %(part, current_session)))[-2] \n",
    "            sourcefile_emotion3 = sorted(glob.glob(\"source_images//%s//%s//*\" %(part, current_session)))[-3] \n",
    "            sourcefile_emotion4 = sorted(glob.glob(\"source_images//%s//%s//*\" %(part, current_session)))[-4]           \n",
    "            sourcefile_emotion5 = sorted(glob.glob(\"source_images//%s//%s//*\" %(part, current_session)))[-5] \n",
    "            sourcefile_emotion6 = sorted(glob.glob(\"source_images//%s//%s//*\" %(part, current_session)))[-6] \n",
    "\n",
    "            #get path for first 2 images in sequence, which contains the neutral emotion\n",
    "            sourcefile_neutral1 = sorted(glob.glob(\"source_images//%s//%s//*\" %(part, current_session)))[0] \n",
    "            sourcefile_neutral2 = sorted(glob.glob(\"source_images//%s//%s//*\" %(part, current_session)))[1] \n",
    "\n",
    "\n",
    "            #Generate path to put images\n",
    "            dest_emot1 = \"sorted_set//%s//%s\" %(emotions[emotion], sourcefile_emotion1[25:]) \n",
    "            dest_emot2 = \"sorted_set//%s//%s\" %(emotions[emotion], sourcefile_emotion2[25:]) \n",
    "            dest_emot3 = \"sorted_set//%s//%s\" %(emotions[emotion], sourcefile_emotion3[25:]) \n",
    "            dest_emot4 = \"sorted_set//%s//%s\" %(emotions[emotion], sourcefile_emotion4[25:]) \n",
    "            dest_emot5 = \"sorted_set//%s//%s\" %(emotions[emotion], sourcefile_emotion5[25:]) \n",
    "            dest_emot6 = \"sorted_set//%s//%s\" %(emotions[emotion], sourcefile_emotion6[25:]) \n",
    "            dest_neut1 = \"sorted_set//neutral//%s\" %sourcefile_neutral1[25:] \n",
    "            dest_neut2 = \"sorted_set//neutral//%s\" %sourcefile_neutral2[25:] \n",
    "            \n",
    "            #Copy files into desstination folders\n",
    "            copyfile(sourcefile_emotion1, dest_emot1) \n",
    "            copyfile(sourcefile_emotion2, dest_emot2) \n",
    "            copyfile(sourcefile_emotion3, dest_emot3) \n",
    "            copyfile(sourcefile_emotion4, dest_emot4) \n",
    "            copyfile(sourcefile_emotion5, dest_emot5) \n",
    "            copyfile(sourcefile_emotion6, dest_emot6) \n",
    "            copyfile(sourcefile_neutral1, dest_neut1) \n",
    "            copyfile(sourcefile_neutral2, dest_neut2) \n",
    "            \n",
    "            \n",
    "#move folders into datasets\n",
    "shutil.move(\"source_images\",\"../datasets/CK/\")\n",
    "shutil.move(\"source_emotion\",\"../datasets/CK/\")\n",
    "shutil.move(\"sorted_set\",\"../datasets/CK/\")\n",
    "print(\"(:\")\n",
    "\n",
    "#Code credit: van Gent, P. (2016). Emotion Recognition With Python, OpenCV and a Face Dataset. \n",
    "#A tech blog about fun things with Python and embedded electronics. Retrieved from:\n",
    "#http://www.paulvangent.com/2016/04/01/emotion-recognition-with-python-opencv-and-a-face-dataset/"
   ]
  },
  {
   "cell_type": "markdown",
   "metadata": {},
   "source": [
    "***"
   ]
  },
  {
   "cell_type": "markdown",
   "metadata": {},
   "source": [
    "#### FER-2013\n",
    "\n",
    "FER-2013 dataset is sorted into a train and validation folder then to individual emotion folders.\n",
    "\n",
    "\n",
    "Goal: To combine validation set with train set, as the combined dataset will be split afterwards."
   ]
  },
  {
   "cell_type": "code",
   "execution_count": 6,
   "metadata": {},
   "outputs": [],
   "source": [
    "#fer2013 combining training and validation set\n",
    "\n",
    "#create new combined folder in destination\n",
    "#copy training folder over\n",
    "shutil.copytree(\"../datasets/fer2013/train\",\"../datasets/fer2013/combined\")\n",
    "\n",
    "#copy val files into folder\n",
    "\n",
    "img_no=0\n",
    "for files in glob.glob(\"../datasets/fer2013/validation/angry/*\"):\n",
    "    shutil.copy(files,\"../datasets/fer2013/combined/angry/%s.jpg\" %(\"V\"+str(img_no),))\n",
    "    img_no += 1\n",
    "    \n",
    "for files in glob.glob(\"../datasets/fer2013/validation/happy/*\"):\n",
    "    shutil.copy(files,\"../datasets/fer2013/combined/happy/%s.jpg\" %(\"V\"+str(img_no),))\n",
    "    img_no += 1\n",
    "\n",
    "for files in glob.glob(\"../datasets/fer2013/validation/neutral/*\"):\n",
    "    shutil.copy(files,\"../datasets/fer2013/combined/neutral/%s.jpg\" %(\"V\"+str(img_no),))\n",
    "    img_no += 1\n",
    "    \n",
    "for files in glob.glob(\"../datasets/fer2013/validation/sad/*\"):\n",
    "    shutil.copy(files,\"../datasets/fer2013/combined/sad/%s.jpg\" %(\"V\"+str(img_no),))\n",
    "    img_no += 1"
   ]
  }
 ],
 "metadata": {
  "kernelspec": {
   "display_name": "Python 3",
   "language": "python",
   "name": "python3"
  },
  "language_info": {
   "codemirror_mode": {
    "name": "ipython",
    "version": 3
   },
   "file_extension": ".py",
   "mimetype": "text/x-python",
   "name": "python",
   "nbconvert_exporter": "python",
   "pygments_lexer": "ipython3",
   "version": "3.7.6"
  }
 },
 "nbformat": 4,
 "nbformat_minor": 4
}
